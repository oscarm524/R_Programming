{
 "cells": [
  {
   "cell_type": "markdown",
   "id": "fdcfe08c",
   "metadata": {},
   "source": [
    "# Fitting a Line"
   ]
  },
  {
   "cell_type": "code",
   "execution_count": 1,
   "id": "1e138192",
   "metadata": {},
   "outputs": [
    {
     "data": {
      "text/html": [
       "<table class=\"dataframe\">\n",
       "<caption>A data.frame: 6 × 4</caption>\n",
       "<thead>\n",
       "\t<tr><th></th><th scope=col>RM</th><th scope=col>LSTAT</th><th scope=col>PTRATIO</th><th scope=col>MEDV</th></tr>\n",
       "\t<tr><th></th><th scope=col>&lt;dbl&gt;</th><th scope=col>&lt;dbl&gt;</th><th scope=col>&lt;dbl&gt;</th><th scope=col>&lt;dbl&gt;</th></tr>\n",
       "</thead>\n",
       "<tbody>\n",
       "\t<tr><th scope=row>1</th><td>6.575</td><td>4.98</td><td>15.3</td><td>504000</td></tr>\n",
       "\t<tr><th scope=row>2</th><td>6.421</td><td>9.14</td><td>17.8</td><td>453600</td></tr>\n",
       "\t<tr><th scope=row>3</th><td>7.185</td><td>4.03</td><td>17.8</td><td>728700</td></tr>\n",
       "\t<tr><th scope=row>4</th><td>6.998</td><td>2.94</td><td>18.7</td><td>701400</td></tr>\n",
       "\t<tr><th scope=row>5</th><td>7.147</td><td>5.33</td><td>18.7</td><td>760200</td></tr>\n",
       "\t<tr><th scope=row>6</th><td>6.430</td><td>5.21</td><td>18.7</td><td>602700</td></tr>\n",
       "</tbody>\n",
       "</table>\n"
      ],
      "text/latex": [
       "A data.frame: 6 × 4\n",
       "\\begin{tabular}{r|llll}\n",
       "  & RM & LSTAT & PTRATIO & MEDV\\\\\n",
       "  & <dbl> & <dbl> & <dbl> & <dbl>\\\\\n",
       "\\hline\n",
       "\t1 & 6.575 & 4.98 & 15.3 & 504000\\\\\n",
       "\t2 & 6.421 & 9.14 & 17.8 & 453600\\\\\n",
       "\t3 & 7.185 & 4.03 & 17.8 & 728700\\\\\n",
       "\t4 & 6.998 & 2.94 & 18.7 & 701400\\\\\n",
       "\t5 & 7.147 & 5.33 & 18.7 & 760200\\\\\n",
       "\t6 & 6.430 & 5.21 & 18.7 & 602700\\\\\n",
       "\\end{tabular}\n"
      ],
      "text/markdown": [
       "\n",
       "A data.frame: 6 × 4\n",
       "\n",
       "| <!--/--> | RM &lt;dbl&gt; | LSTAT &lt;dbl&gt; | PTRATIO &lt;dbl&gt; | MEDV &lt;dbl&gt; |\n",
       "|---|---|---|---|---|\n",
       "| 1 | 6.575 | 4.98 | 15.3 | 504000 |\n",
       "| 2 | 6.421 | 9.14 | 17.8 | 453600 |\n",
       "| 3 | 7.185 | 4.03 | 17.8 | 728700 |\n",
       "| 4 | 6.998 | 2.94 | 18.7 | 701400 |\n",
       "| 5 | 7.147 | 5.33 | 18.7 | 760200 |\n",
       "| 6 | 6.430 | 5.21 | 18.7 | 602700 |\n",
       "\n"
      ],
      "text/plain": [
       "  RM    LSTAT PTRATIO MEDV  \n",
       "1 6.575 4.98  15.3    504000\n",
       "2 6.421 9.14  17.8    453600\n",
       "3 7.185 4.03  17.8    728700\n",
       "4 6.998 2.94  18.7    701400\n",
       "5 7.147 5.33  18.7    760200\n",
       "6 6.430 5.21  18.7    602700"
      ]
     },
     "metadata": {},
     "output_type": "display_data"
    }
   ],
   "source": [
    "## Reading housing data-file\n",
    "housing = read.csv(file = 'housing.csv')\n",
    "head(housing)"
   ]
  },
  {
   "cell_type": "code",
   "execution_count": 2,
   "id": "3b4c2568",
   "metadata": {},
   "outputs": [
    {
     "data": {
      "text/plain": [
       "\n",
       "Call:\n",
       "lm(formula = MEDV ~ RM + LSTAT + PTRATIO, data = housing)\n",
       "\n",
       "Residuals:\n",
       "    Min      1Q  Median      3Q     Max \n",
       "-231330  -55228   -8137   41788  326444 \n",
       "\n",
       "Coefficients:\n",
       "            Estimate Std. Error t value Pr(>|t|)    \n",
       "(Intercept) 415464.4    68845.7   6.035 3.17e-09 ***\n",
       "RM           86565.2     7888.9  10.973  < 2e-16 ***\n",
       "LSTAT       -10849.3      732.1 -14.819  < 2e-16 ***\n",
       "PTRATIO     -19492.1     2039.0  -9.559  < 2e-16 ***\n",
       "---\n",
       "Signif. codes:  0 ‘***’ 0.001 ‘**’ 0.01 ‘*’ 0.05 ‘.’ 0.1 ‘ ’ 1\n",
       "\n",
       "Residual standard error: 88130 on 485 degrees of freedom\n",
       "Multiple R-squared:  0.7176,\tAdjusted R-squared:  0.7159 \n",
       "F-statistic: 410.9 on 3 and 485 DF,  p-value: < 2.2e-16\n"
      ]
     },
     "metadata": {},
     "output_type": "display_data"
    }
   ],
   "source": [
    "## Fitting the linear regression model\n",
    "lm_md = lm(MEDV ~ RM + LSTAT + PTRATIO, data = housing)\n",
    "\n",
    "## Extracting model parameters\n",
    "summary(lm_md)"
   ]
  },
  {
   "cell_type": "markdown",
   "id": "6cbc989d",
   "metadata": {},
   "source": [
    "# Predicting with Linear Model"
   ]
  },
  {
   "cell_type": "code",
   "execution_count": null,
   "id": "1d3cdee7",
   "metadata": {},
   "outputs": [],
   "source": []
  }
 ],
 "metadata": {
  "kernelspec": {
   "display_name": "R",
   "language": "R",
   "name": "ir"
  },
  "language_info": {
   "codemirror_mode": "r",
   "file_extension": ".r",
   "mimetype": "text/x-r-source",
   "name": "R",
   "pygments_lexer": "r",
   "version": "4.1.0"
  }
 },
 "nbformat": 4,
 "nbformat_minor": 5
}
