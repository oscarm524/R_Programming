{
 "cells": [
  {
   "cell_type": "markdown",
   "id": "a3f940a6",
   "metadata": {},
   "source": [
    "# Reading Text File"
   ]
  },
  {
   "cell_type": "code",
   "execution_count": 4,
   "id": "1778170b",
   "metadata": {},
   "outputs": [
    {
     "data": {
      "text/html": [
       "<table class=\"dataframe\">\n",
       "<caption>A data.frame: 5 × 4</caption>\n",
       "<thead>\n",
       "\t<tr><th></th><th scope=col>Gender</th><th scope=col>Age</th><th scope=col>Height</th><th scope=col>Weigth</th></tr>\n",
       "\t<tr><th></th><th scope=col>&lt;chr&gt;</th><th scope=col>&lt;int&gt;</th><th scope=col>&lt;int&gt;</th><th scope=col>&lt;int&gt;</th></tr>\n",
       "</thead>\n",
       "<tbody>\n",
       "\t<tr><th scope=row>1</th><td>M</td><td>50</td><td>68</td><td>155</td></tr>\n",
       "\t<tr><th scope=row>2</th><td>F</td><td>23</td><td>60</td><td>101</td></tr>\n",
       "\t<tr><th scope=row>3</th><td>M</td><td>65</td><td>72</td><td>220</td></tr>\n",
       "\t<tr><th scope=row>4</th><td>F</td><td>35</td><td>65</td><td>133</td></tr>\n",
       "\t<tr><th scope=row>5</th><td>M</td><td>15</td><td>71</td><td>166</td></tr>\n",
       "</tbody>\n",
       "</table>\n"
      ],
      "text/latex": [
       "A data.frame: 5 × 4\n",
       "\\begin{tabular}{r|llll}\n",
       "  & Gender & Age & Height & Weigth\\\\\n",
       "  & <chr> & <int> & <int> & <int>\\\\\n",
       "\\hline\n",
       "\t1 & M & 50 & 68 & 155\\\\\n",
       "\t2 & F & 23 & 60 & 101\\\\\n",
       "\t3 & M & 65 & 72 & 220\\\\\n",
       "\t4 & F & 35 & 65 & 133\\\\\n",
       "\t5 & M & 15 & 71 & 166\\\\\n",
       "\\end{tabular}\n"
      ],
      "text/markdown": [
       "\n",
       "A data.frame: 5 × 4\n",
       "\n",
       "| <!--/--> | Gender &lt;chr&gt; | Age &lt;int&gt; | Height &lt;int&gt; | Weigth &lt;int&gt; |\n",
       "|---|---|---|---|---|\n",
       "| 1 | M | 50 | 68 | 155 |\n",
       "| 2 | F | 23 | 60 | 101 |\n",
       "| 3 | M | 65 | 72 | 220 |\n",
       "| 4 | F | 35 | 65 | 133 |\n",
       "| 5 | M | 15 | 71 | 166 |\n",
       "\n"
      ],
      "text/plain": [
       "  Gender Age Height Weigth\n",
       "1 M      50  68     155   \n",
       "2 F      23  60     101   \n",
       "3 M      65  72     220   \n",
       "4 F      35  65     133   \n",
       "5 M      15  71     166   "
      ]
     },
     "metadata": {},
     "output_type": "display_data"
    }
   ],
   "source": [
    "mydata = read.table(file = 'mydata.txt')\n",
    "names(mydata) = c('Gender', 'Age', 'Height', 'Weigth')\n",
    "head(mydata)"
   ]
  },
  {
   "cell_type": "markdown",
   "id": "a8b37687",
   "metadata": {},
   "source": [
    "# Reading CSV File"
   ]
  },
  {
   "cell_type": "code",
   "execution_count": 6,
   "id": "17b5ea3e",
   "metadata": {},
   "outputs": [
    {
     "data": {
      "text/html": [
       "<table class=\"dataframe\">\n",
       "<caption>A data.frame: 4 × 4</caption>\n",
       "<thead>\n",
       "\t<tr><th></th><th scope=col>Gender</th><th scope=col>Age</th><th scope=col>Height</th><th scope=col>Weigth</th></tr>\n",
       "\t<tr><th></th><th scope=col>&lt;chr&gt;</th><th scope=col>&lt;int&gt;</th><th scope=col>&lt;int&gt;</th><th scope=col>&lt;int&gt;</th></tr>\n",
       "</thead>\n",
       "<tbody>\n",
       "\t<tr><th scope=row>1</th><td>F</td><td>23</td><td>60</td><td>101</td></tr>\n",
       "\t<tr><th scope=row>2</th><td>M</td><td>65</td><td>72</td><td>220</td></tr>\n",
       "\t<tr><th scope=row>3</th><td>F</td><td>35</td><td>65</td><td>133</td></tr>\n",
       "\t<tr><th scope=row>4</th><td>M</td><td>15</td><td>71</td><td>166</td></tr>\n",
       "</tbody>\n",
       "</table>\n"
      ],
      "text/latex": [
       "A data.frame: 4 × 4\n",
       "\\begin{tabular}{r|llll}\n",
       "  & Gender & Age & Height & Weigth\\\\\n",
       "  & <chr> & <int> & <int> & <int>\\\\\n",
       "\\hline\n",
       "\t1 & F & 23 & 60 & 101\\\\\n",
       "\t2 & M & 65 & 72 & 220\\\\\n",
       "\t3 & F & 35 & 65 & 133\\\\\n",
       "\t4 & M & 15 & 71 & 166\\\\\n",
       "\\end{tabular}\n"
      ],
      "text/markdown": [
       "\n",
       "A data.frame: 4 × 4\n",
       "\n",
       "| <!--/--> | Gender &lt;chr&gt; | Age &lt;int&gt; | Height &lt;int&gt; | Weigth &lt;int&gt; |\n",
       "|---|---|---|---|---|\n",
       "| 1 | F | 23 | 60 | 101 |\n",
       "| 2 | M | 65 | 72 | 220 |\n",
       "| 3 | F | 35 | 65 | 133 |\n",
       "| 4 | M | 15 | 71 | 166 |\n",
       "\n"
      ],
      "text/plain": [
       "  Gender Age Height Weigth\n",
       "1 F      23  60     101   \n",
       "2 M      65  72     220   \n",
       "3 F      35  65     133   \n",
       "4 M      15  71     166   "
      ]
     },
     "metadata": {},
     "output_type": "display_data"
    }
   ],
   "source": [
    "mydata = read.csv(file = 'mydata.csv')\n",
    "names(mydata) = c('Gender', 'Age', 'Height', 'Weigth')\n",
    "head(mydata)"
   ]
  }
 ],
 "metadata": {
  "kernelspec": {
   "display_name": "R",
   "language": "R",
   "name": "ir"
  },
  "language_info": {
   "codemirror_mode": "r",
   "file_extension": ".r",
   "mimetype": "text/x-r-source",
   "name": "R",
   "pygments_lexer": "r",
   "version": "4.1.0"
  }
 },
 "nbformat": 4,
 "nbformat_minor": 5
}
