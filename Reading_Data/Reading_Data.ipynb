{
 "cells": [
  {
   "cell_type": "markdown",
   "id": "80acd71a",
   "metadata": {},
   "source": [
    "# Reading Text File"
   ]
  },
  {
   "cell_type": "code",
   "execution_count": 4,
   "id": "8a9fb46d",
   "metadata": {},
   "outputs": [
    {
     "data": {
      "text/html": [
       "<table class=\"dataframe\">\n",
       "<caption>A data.frame: 5 × 4</caption>\n",
       "<thead>\n",
       "\t<tr><th></th><th scope=col>Gender</th><th scope=col>Age</th><th scope=col>Height</th><th scope=col>Weigth</th></tr>\n",
       "\t<tr><th></th><th scope=col>&lt;chr&gt;</th><th scope=col>&lt;int&gt;</th><th scope=col>&lt;int&gt;</th><th scope=col>&lt;int&gt;</th></tr>\n",
       "</thead>\n",
       "<tbody>\n",
       "\t<tr><th scope=row>1</th><td>M</td><td>50</td><td>68</td><td>155</td></tr>\n",
       "\t<tr><th scope=row>2</th><td>F</td><td>23</td><td>60</td><td>101</td></tr>\n",
       "\t<tr><th scope=row>3</th><td>M</td><td>65</td><td>72</td><td>220</td></tr>\n",
       "\t<tr><th scope=row>4</th><td>F</td><td>35</td><td>65</td><td>133</td></tr>\n",
       "\t<tr><th scope=row>5</th><td>M</td><td>15</td><td>71</td><td>166</td></tr>\n",
       "</tbody>\n",
       "</table>\n"
      ],
      "text/latex": [
       "A data.frame: 5 × 4\n",
       "\\begin{tabular}{r|llll}\n",
       "  & Gender & Age & Height & Weigth\\\\\n",
       "  & <chr> & <int> & <int> & <int>\\\\\n",
       "\\hline\n",
       "\t1 & M & 50 & 68 & 155\\\\\n",
       "\t2 & F & 23 & 60 & 101\\\\\n",
       "\t3 & M & 65 & 72 & 220\\\\\n",
       "\t4 & F & 35 & 65 & 133\\\\\n",
       "\t5 & M & 15 & 71 & 166\\\\\n",
       "\\end{tabular}\n"
      ],
      "text/markdown": [
       "\n",
       "A data.frame: 5 × 4\n",
       "\n",
       "| <!--/--> | Gender &lt;chr&gt; | Age &lt;int&gt; | Height &lt;int&gt; | Weigth &lt;int&gt; |\n",
       "|---|---|---|---|---|\n",
       "| 1 | M | 50 | 68 | 155 |\n",
       "| 2 | F | 23 | 60 | 101 |\n",
       "| 3 | M | 65 | 72 | 220 |\n",
       "| 4 | F | 35 | 65 | 133 |\n",
       "| 5 | M | 15 | 71 | 166 |\n",
       "\n"
      ],
      "text/plain": [
       "  Gender Age Height Weigth\n",
       "1 M      50  68     155   \n",
       "2 F      23  60     101   \n",
       "3 M      65  72     220   \n",
       "4 F      35  65     133   \n",
       "5 M      15  71     166   "
      ]
     },
     "metadata": {},
     "output_type": "display_data"
    }
   ],
   "source": [
    "mydata = read.table(file = 'mydata.txt')\n",
    "names(mydata) = c('Gender', 'Age', 'Height', 'Weigth')\n",
    "head(mydata)"
   ]
  }
 ],
 "metadata": {
  "kernelspec": {
   "display_name": "R",
   "language": "R",
   "name": "ir"
  },
  "language_info": {
   "codemirror_mode": "r",
   "file_extension": ".r",
   "mimetype": "text/x-r-source",
   "name": "R",
   "pygments_lexer": "r",
   "version": "4.1.0"
  }
 },
 "nbformat": 4,
 "nbformat_minor": 5
}
