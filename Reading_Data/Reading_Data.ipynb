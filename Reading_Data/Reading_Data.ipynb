{
 "cells": [
  {
   "cell_type": "markdown",
   "id": "d5ed327b",
   "metadata": {},
   "source": [
    "# Reading Text File"
   ]
  },
  {
   "cell_type": "code",
   "execution_count": 1,
   "id": "1458fd48",
   "metadata": {},
   "outputs": [
    {
     "data": {
      "text/html": [
       "<table class=\"dataframe\">\n",
       "<caption>A data.frame: 5 × 4</caption>\n",
       "<thead>\n",
       "\t<tr><th></th><th scope=col>Gender</th><th scope=col>Age</th><th scope=col>Height</th><th scope=col>Weigth</th></tr>\n",
       "\t<tr><th></th><th scope=col>&lt;chr&gt;</th><th scope=col>&lt;int&gt;</th><th scope=col>&lt;int&gt;</th><th scope=col>&lt;int&gt;</th></tr>\n",
       "</thead>\n",
       "<tbody>\n",
       "\t<tr><th scope=row>1</th><td>M</td><td>50</td><td>68</td><td>155</td></tr>\n",
       "\t<tr><th scope=row>2</th><td>F</td><td>23</td><td>60</td><td>101</td></tr>\n",
       "\t<tr><th scope=row>3</th><td>M</td><td>65</td><td>72</td><td>220</td></tr>\n",
       "\t<tr><th scope=row>4</th><td>F</td><td>35</td><td>65</td><td>133</td></tr>\n",
       "\t<tr><th scope=row>5</th><td>M</td><td>15</td><td>71</td><td>166</td></tr>\n",
       "</tbody>\n",
       "</table>\n"
      ],
      "text/latex": [
       "A data.frame: 5 × 4\n",
       "\\begin{tabular}{r|llll}\n",
       "  & Gender & Age & Height & Weigth\\\\\n",
       "  & <chr> & <int> & <int> & <int>\\\\\n",
       "\\hline\n",
       "\t1 & M & 50 & 68 & 155\\\\\n",
       "\t2 & F & 23 & 60 & 101\\\\\n",
       "\t3 & M & 65 & 72 & 220\\\\\n",
       "\t4 & F & 35 & 65 & 133\\\\\n",
       "\t5 & M & 15 & 71 & 166\\\\\n",
       "\\end{tabular}\n"
      ],
      "text/markdown": [
       "\n",
       "A data.frame: 5 × 4\n",
       "\n",
       "| <!--/--> | Gender &lt;chr&gt; | Age &lt;int&gt; | Height &lt;int&gt; | Weigth &lt;int&gt; |\n",
       "|---|---|---|---|---|\n",
       "| 1 | M | 50 | 68 | 155 |\n",
       "| 2 | F | 23 | 60 | 101 |\n",
       "| 3 | M | 65 | 72 | 220 |\n",
       "| 4 | F | 35 | 65 | 133 |\n",
       "| 5 | M | 15 | 71 | 166 |\n",
       "\n"
      ],
      "text/plain": [
       "  Gender Age Height Weigth\n",
       "1 M      50  68     155   \n",
       "2 F      23  60     101   \n",
       "3 M      65  72     220   \n",
       "4 F      35  65     133   \n",
       "5 M      15  71     166   "
      ]
     },
     "metadata": {},
     "output_type": "display_data"
    }
   ],
   "source": [
    "mydata = read.table(file = 'mydata.txt')\n",
    "names(mydata) = c('Gender', 'Age', 'Height', 'Weigth')\n",
    "head(mydata)"
   ]
  },
  {
   "cell_type": "markdown",
   "id": "b4065e83",
   "metadata": {},
   "source": [
    "# Reading CSV File"
   ]
  },
  {
   "cell_type": "code",
   "execution_count": 2,
   "id": "2f4b0677",
   "metadata": {},
   "outputs": [
    {
     "data": {
      "text/html": [
       "<table class=\"dataframe\">\n",
       "<caption>A data.frame: 5 × 4</caption>\n",
       "<thead>\n",
       "\t<tr><th></th><th scope=col>Gender</th><th scope=col>Age</th><th scope=col>Height</th><th scope=col>Weigth</th></tr>\n",
       "\t<tr><th></th><th scope=col>&lt;chr&gt;</th><th scope=col>&lt;int&gt;</th><th scope=col>&lt;int&gt;</th><th scope=col>&lt;int&gt;</th></tr>\n",
       "</thead>\n",
       "<tbody>\n",
       "\t<tr><th scope=row>1</th><td>M</td><td>50</td><td>68</td><td>155</td></tr>\n",
       "\t<tr><th scope=row>2</th><td>F</td><td>23</td><td>60</td><td>101</td></tr>\n",
       "\t<tr><th scope=row>3</th><td>M</td><td>65</td><td>72</td><td>220</td></tr>\n",
       "\t<tr><th scope=row>4</th><td>F</td><td>35</td><td>65</td><td>133</td></tr>\n",
       "\t<tr><th scope=row>5</th><td>M</td><td>15</td><td>71</td><td>166</td></tr>\n",
       "</tbody>\n",
       "</table>\n"
      ],
      "text/latex": [
       "A data.frame: 5 × 4\n",
       "\\begin{tabular}{r|llll}\n",
       "  & Gender & Age & Height & Weigth\\\\\n",
       "  & <chr> & <int> & <int> & <int>\\\\\n",
       "\\hline\n",
       "\t1 & M & 50 & 68 & 155\\\\\n",
       "\t2 & F & 23 & 60 & 101\\\\\n",
       "\t3 & M & 65 & 72 & 220\\\\\n",
       "\t4 & F & 35 & 65 & 133\\\\\n",
       "\t5 & M & 15 & 71 & 166\\\\\n",
       "\\end{tabular}\n"
      ],
      "text/markdown": [
       "\n",
       "A data.frame: 5 × 4\n",
       "\n",
       "| <!--/--> | Gender &lt;chr&gt; | Age &lt;int&gt; | Height &lt;int&gt; | Weigth &lt;int&gt; |\n",
       "|---|---|---|---|---|\n",
       "| 1 | M | 50 | 68 | 155 |\n",
       "| 2 | F | 23 | 60 | 101 |\n",
       "| 3 | M | 65 | 72 | 220 |\n",
       "| 4 | F | 35 | 65 | 133 |\n",
       "| 5 | M | 15 | 71 | 166 |\n",
       "\n"
      ],
      "text/plain": [
       "  Gender Age Height Weigth\n",
       "1 M      50  68     155   \n",
       "2 F      23  60     101   \n",
       "3 M      65  72     220   \n",
       "4 F      35  65     133   \n",
       "5 M      15  71     166   "
      ]
     },
     "metadata": {},
     "output_type": "display_data"
    }
   ],
   "source": [
    "mydata = read.csv(file = 'mydata.csv', header = F)\n",
    "names(mydata) = c('Gender', 'Age', 'Height', 'Weigth')\n",
    "head(mydata)"
   ]
  },
  {
   "cell_type": "markdown",
   "id": "2fa61b81",
   "metadata": {},
   "source": [
    "# Reading Excel File"
   ]
  },
  {
   "cell_type": "code",
   "execution_count": 3,
   "id": "e8d25730",
   "metadata": {},
   "outputs": [
    {
     "data": {
      "text/html": [
       "<table class=\"dataframe\">\n",
       "<caption>A tibble: 5 × 5</caption>\n",
       "<thead>\n",
       "\t<tr><th scope=col>Subject</th><th scope=col>Date</th><th scope=col>Hours Worked</th><th scope=col>Rate Per Hour</th><th scope=col>Wage</th></tr>\n",
       "\t<tr><th scope=col>&lt;chr&gt;</th><th scope=col>&lt;dttm&gt;</th><th scope=col>&lt;dbl&gt;</th><th scope=col>&lt;dbl&gt;</th><th scope=col>&lt;dbl&gt;</th></tr>\n",
       "</thead>\n",
       "<tbody>\n",
       "\t<tr><td>M12 </td><td>2006-12-12</td><td>40</td><td>15.25</td><td> 610.00</td></tr>\n",
       "\t<tr><td>F34 </td><td>2006-11-16</td><td>35</td><td>25.57</td><td> 894.95</td></tr>\n",
       "\t<tr><td>M76 </td><td>2006-06-03</td><td>10</td><td>54.00</td><td> 540.00</td></tr>\n",
       "\t<tr><td>F87 </td><td>2006-04-06</td><td>45</td><td>35.00</td><td>1575.00</td></tr>\n",
       "\t<tr><td>M122</td><td>2006-08-04</td><td>40</td><td>35.00</td><td>1400.00</td></tr>\n",
       "</tbody>\n",
       "</table>\n"
      ],
      "text/latex": [
       "A tibble: 5 × 5\n",
       "\\begin{tabular}{lllll}\n",
       " Subject & Date & Hours Worked & Rate Per Hour & Wage\\\\\n",
       " <chr> & <dttm> & <dbl> & <dbl> & <dbl>\\\\\n",
       "\\hline\n",
       "\t M12  & 2006-12-12 & 40 & 15.25 &  610.00\\\\\n",
       "\t F34  & 2006-11-16 & 35 & 25.57 &  894.95\\\\\n",
       "\t M76  & 2006-06-03 & 10 & 54.00 &  540.00\\\\\n",
       "\t F87  & 2006-04-06 & 45 & 35.00 & 1575.00\\\\\n",
       "\t M122 & 2006-08-04 & 40 & 35.00 & 1400.00\\\\\n",
       "\\end{tabular}\n"
      ],
      "text/markdown": [
       "\n",
       "A tibble: 5 × 5\n",
       "\n",
       "| Subject &lt;chr&gt; | Date &lt;dttm&gt; | Hours Worked &lt;dbl&gt; | Rate Per Hour &lt;dbl&gt; | Wage &lt;dbl&gt; |\n",
       "|---|---|---|---|---|\n",
       "| M12  | 2006-12-12 | 40 | 15.25 |  610.00 |\n",
       "| F34  | 2006-11-16 | 35 | 25.57 |  894.95 |\n",
       "| M76  | 2006-06-03 | 10 | 54.00 |  540.00 |\n",
       "| F87  | 2006-04-06 | 45 | 35.00 | 1575.00 |\n",
       "| M122 | 2006-08-04 | 40 | 35.00 | 1400.00 |\n",
       "\n"
      ],
      "text/plain": [
       "  Subject Date       Hours Worked Rate Per Hour Wage   \n",
       "1 M12     2006-12-12 40           15.25          610.00\n",
       "2 F34     2006-11-16 35           25.57          894.95\n",
       "3 M76     2006-06-03 10           54.00          540.00\n",
       "4 F87     2006-04-06 45           35.00         1575.00\n",
       "5 M122    2006-08-04 40           35.00         1400.00"
      ]
     },
     "metadata": {},
     "output_type": "display_data"
    }
   ],
   "source": [
    "library(readxl)\n",
    "wages = read_excel('wages.xls')\n",
    "head(wages)"
   ]
  },
  {
   "cell_type": "markdown",
   "id": "01f52d48",
   "metadata": {},
   "source": [
    "# Reading JSON File"
   ]
  },
  {
   "cell_type": "code",
   "execution_count": 4,
   "id": "89694513",
   "metadata": {},
   "outputs": [
    {
     "name": "stderr",
     "output_type": "stream",
     "text": [
      "Updating HTML index of packages in '.Library'\n",
      "\n",
      "Making 'packages.html' ...\n",
      " done\n",
      "\n"
     ]
    }
   ],
   "source": [
    "install.packages('rjson')"
   ]
  },
  {
   "cell_type": "code",
   "execution_count": 5,
   "id": "337e0ca6",
   "metadata": {},
   "outputs": [
    {
     "data": {
      "text/html": [
       "<table class=\"dataframe\">\n",
       "<caption>A data.frame: 5 × 4</caption>\n",
       "<thead>\n",
       "\t<tr><th></th><th scope=col>Gender</th><th scope=col>Age</th><th scope=col>Height</th><th scope=col>Weigth</th></tr>\n",
       "\t<tr><th></th><th scope=col>&lt;list&gt;</th><th scope=col>&lt;list&gt;</th><th scope=col>&lt;list&gt;</th><th scope=col>&lt;list&gt;</th></tr>\n",
       "</thead>\n",
       "<tbody>\n",
       "\t<tr><th scope=row>1</th><td>M</td><td>50</td><td>68</td><td>155</td></tr>\n",
       "\t<tr><th scope=row>2</th><td>F</td><td>23</td><td>60</td><td>101</td></tr>\n",
       "\t<tr><th scope=row>3</th><td>M</td><td>65</td><td>72</td><td>220</td></tr>\n",
       "\t<tr><th scope=row>4</th><td>F</td><td>35</td><td>65</td><td>133</td></tr>\n",
       "\t<tr><th scope=row>5</th><td>M</td><td>15</td><td>71</td><td>166</td></tr>\n",
       "</tbody>\n",
       "</table>\n"
      ],
      "text/latex": [
       "A data.frame: 5 × 4\n",
       "\\begin{tabular}{r|llll}\n",
       "  & Gender & Age & Height & Weigth\\\\\n",
       "  & <list> & <list> & <list> & <list>\\\\\n",
       "\\hline\n",
       "\t1 & M & 50 & 68 & 155\\\\\n",
       "\t2 & F & 23 & 60 & 101\\\\\n",
       "\t3 & M & 65 & 72 & 220\\\\\n",
       "\t4 & F & 35 & 65 & 133\\\\\n",
       "\t5 & M & 15 & 71 & 166\\\\\n",
       "\\end{tabular}\n"
      ],
      "text/markdown": [
       "\n",
       "A data.frame: 5 × 4\n",
       "\n",
       "| <!--/--> | Gender &lt;list&gt; | Age &lt;list&gt; | Height &lt;list&gt; | Weigth &lt;list&gt; |\n",
       "|---|---|---|---|---|\n",
       "| 1 | M | 50 | 68 | 155 |\n",
       "| 2 | F | 23 | 60 | 101 |\n",
       "| 3 | M | 65 | 72 | 220 |\n",
       "| 4 | F | 35 | 65 | 133 |\n",
       "| 5 | M | 15 | 71 | 166 |\n",
       "\n"
      ],
      "text/plain": [
       "  Gender Age Height Weigth\n",
       "1 M      50  68     155   \n",
       "2 F      23  60     101   \n",
       "3 M      65  72     220   \n",
       "4 F      35  65     133   \n",
       "5 M      15  71     166   "
      ]
     },
     "metadata": {},
     "output_type": "display_data"
    }
   ],
   "source": [
    "library(rjson)\n",
    "mydata = fromJSON(file = 'mydata.json')\n",
    "mydata = as.data.frame(do.call('rbind', mydata)) \n",
    "names(mydata) = c('Gender', 'Age', 'Height', 'Weigth')\n",
    "head(mydata)"
   ]
  }
 ],
 "metadata": {
  "kernelspec": {
   "display_name": "R",
   "language": "R",
   "name": "ir"
  },
  "language_info": {
   "codemirror_mode": "r",
   "file_extension": ".r",
   "mimetype": "text/x-r-source",
   "name": "R",
   "pygments_lexer": "r",
   "version": "4.1.0"
  }
 },
 "nbformat": 4,
 "nbformat_minor": 5
}
