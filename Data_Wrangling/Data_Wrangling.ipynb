{
 "cells": [
  {
   "cell_type": "code",
   "execution_count": 1,
   "id": "c128c7c6",
   "metadata": {},
   "outputs": [],
   "source": [
    "## Defining two data-frames\n",
    "data_1 = data.frame(id = c('b', 'b', 'a', 'c', 'a', 'a', 'b'), x = sample(1:100, 7))\n",
    "data_2 = data.frame(id = c('a', 'b', 'd'), y = sample(1:100, 3))"
   ]
  },
  {
   "cell_type": "markdown",
   "id": "8760a5d0",
   "metadata": {},
   "source": [
    "# Inner Join"
   ]
  },
  {
   "cell_type": "code",
   "execution_count": 6,
   "id": "db504522",
   "metadata": {},
   "outputs": [
    {
     "data": {
      "text/html": [
       "<table class=\"dataframe\">\n",
       "<caption>A data.frame: 6 × 3</caption>\n",
       "<thead>\n",
       "\t<tr><th scope=col>id</th><th scope=col>x</th><th scope=col>y</th></tr>\n",
       "\t<tr><th scope=col>&lt;chr&gt;</th><th scope=col>&lt;int&gt;</th><th scope=col>&lt;int&gt;</th></tr>\n",
       "</thead>\n",
       "<tbody>\n",
       "\t<tr><td>a</td><td> 97</td><td> 1</td></tr>\n",
       "\t<tr><td>a</td><td> 86</td><td> 1</td></tr>\n",
       "\t<tr><td>a</td><td> 95</td><td> 1</td></tr>\n",
       "\t<tr><td>b</td><td> 92</td><td>99</td></tr>\n",
       "\t<tr><td>b</td><td>100</td><td>99</td></tr>\n",
       "\t<tr><td>b</td><td> 77</td><td>99</td></tr>\n",
       "</tbody>\n",
       "</table>\n"
      ],
      "text/latex": [
       "A data.frame: 6 × 3\n",
       "\\begin{tabular}{lll}\n",
       " id & x & y\\\\\n",
       " <chr> & <int> & <int>\\\\\n",
       "\\hline\n",
       "\t a &  97 &  1\\\\\n",
       "\t a &  86 &  1\\\\\n",
       "\t a &  95 &  1\\\\\n",
       "\t b &  92 & 99\\\\\n",
       "\t b & 100 & 99\\\\\n",
       "\t b &  77 & 99\\\\\n",
       "\\end{tabular}\n"
      ],
      "text/markdown": [
       "\n",
       "A data.frame: 6 × 3\n",
       "\n",
       "| id &lt;chr&gt; | x &lt;int&gt; | y &lt;int&gt; |\n",
       "|---|---|---|\n",
       "| a |  97 |  1 |\n",
       "| a |  86 |  1 |\n",
       "| a |  95 |  1 |\n",
       "| b |  92 | 99 |\n",
       "| b | 100 | 99 |\n",
       "| b |  77 | 99 |\n",
       "\n"
      ],
      "text/plain": [
       "  id x   y \n",
       "1 a   97  1\n",
       "2 a   86  1\n",
       "3 a   95  1\n",
       "4 b   92 99\n",
       "5 b  100 99\n",
       "6 b   77 99"
      ]
     },
     "metadata": {},
     "output_type": "display_data"
    }
   ],
   "source": [
    "data_inner = merge(data_1, data_2, by = c('id'))\n",
    "data_inner"
   ]
  },
  {
   "cell_type": "markdown",
   "id": "2b8e8ccd",
   "metadata": {},
   "source": [
    "# Left Join"
   ]
  },
  {
   "cell_type": "code",
   "execution_count": 2,
   "id": "b15fdc18",
   "metadata": {},
   "outputs": [
    {
     "data": {
      "text/html": [
       "<table class=\"dataframe\">\n",
       "<caption>A data.frame: 7 × 3</caption>\n",
       "<thead>\n",
       "\t<tr><th scope=col>id</th><th scope=col>x</th><th scope=col>y</th></tr>\n",
       "\t<tr><th scope=col>&lt;chr&gt;</th><th scope=col>&lt;int&gt;</th><th scope=col>&lt;int&gt;</th></tr>\n",
       "</thead>\n",
       "<tbody>\n",
       "\t<tr><td>a</td><td>100</td><td>12</td></tr>\n",
       "\t<tr><td>a</td><td> 99</td><td>12</td></tr>\n",
       "\t<tr><td>a</td><td>  8</td><td>12</td></tr>\n",
       "\t<tr><td>b</td><td> 25</td><td>86</td></tr>\n",
       "\t<tr><td>b</td><td> 92</td><td>86</td></tr>\n",
       "\t<tr><td>b</td><td> 69</td><td>86</td></tr>\n",
       "\t<tr><td>c</td><td> 47</td><td>NA</td></tr>\n",
       "</tbody>\n",
       "</table>\n"
      ],
      "text/latex": [
       "A data.frame: 7 × 3\n",
       "\\begin{tabular}{lll}\n",
       " id & x & y\\\\\n",
       " <chr> & <int> & <int>\\\\\n",
       "\\hline\n",
       "\t a & 100 & 12\\\\\n",
       "\t a &  99 & 12\\\\\n",
       "\t a &   8 & 12\\\\\n",
       "\t b &  25 & 86\\\\\n",
       "\t b &  92 & 86\\\\\n",
       "\t b &  69 & 86\\\\\n",
       "\t c &  47 & NA\\\\\n",
       "\\end{tabular}\n"
      ],
      "text/markdown": [
       "\n",
       "A data.frame: 7 × 3\n",
       "\n",
       "| id &lt;chr&gt; | x &lt;int&gt; | y &lt;int&gt; |\n",
       "|---|---|---|\n",
       "| a | 100 | 12 |\n",
       "| a |  99 | 12 |\n",
       "| a |   8 | 12 |\n",
       "| b |  25 | 86 |\n",
       "| b |  92 | 86 |\n",
       "| b |  69 | 86 |\n",
       "| c |  47 | NA |\n",
       "\n"
      ],
      "text/plain": [
       "  id x   y \n",
       "1 a  100 12\n",
       "2 a   99 12\n",
       "3 a    8 12\n",
       "4 b   25 86\n",
       "5 b   92 86\n",
       "6 b   69 86\n",
       "7 c   47 NA"
      ]
     },
     "metadata": {},
     "output_type": "display_data"
    }
   ],
   "source": [
    "data_left = merge(data_1, data_2, by = c('id'), all.x = TRUE)\n",
    "data_left"
   ]
  },
  {
   "cell_type": "markdown",
   "id": "a0d16c15",
   "metadata": {},
   "source": [
    "# Right Join"
   ]
  },
  {
   "cell_type": "code",
   "execution_count": 3,
   "id": "2ea74c3f",
   "metadata": {},
   "outputs": [
    {
     "data": {
      "text/html": [
       "<table class=\"dataframe\">\n",
       "<caption>A data.frame: 7 × 3</caption>\n",
       "<thead>\n",
       "\t<tr><th scope=col>id</th><th scope=col>x</th><th scope=col>y</th></tr>\n",
       "\t<tr><th scope=col>&lt;chr&gt;</th><th scope=col>&lt;int&gt;</th><th scope=col>&lt;int&gt;</th></tr>\n",
       "</thead>\n",
       "<tbody>\n",
       "\t<tr><td>a</td><td>100</td><td>12</td></tr>\n",
       "\t<tr><td>a</td><td> 99</td><td>12</td></tr>\n",
       "\t<tr><td>a</td><td>  8</td><td>12</td></tr>\n",
       "\t<tr><td>b</td><td> 25</td><td>86</td></tr>\n",
       "\t<tr><td>b</td><td> 92</td><td>86</td></tr>\n",
       "\t<tr><td>b</td><td> 69</td><td>86</td></tr>\n",
       "\t<tr><td>d</td><td> NA</td><td>89</td></tr>\n",
       "</tbody>\n",
       "</table>\n"
      ],
      "text/latex": [
       "A data.frame: 7 × 3\n",
       "\\begin{tabular}{lll}\n",
       " id & x & y\\\\\n",
       " <chr> & <int> & <int>\\\\\n",
       "\\hline\n",
       "\t a & 100 & 12\\\\\n",
       "\t a &  99 & 12\\\\\n",
       "\t a &   8 & 12\\\\\n",
       "\t b &  25 & 86\\\\\n",
       "\t b &  92 & 86\\\\\n",
       "\t b &  69 & 86\\\\\n",
       "\t d &  NA & 89\\\\\n",
       "\\end{tabular}\n"
      ],
      "text/markdown": [
       "\n",
       "A data.frame: 7 × 3\n",
       "\n",
       "| id &lt;chr&gt; | x &lt;int&gt; | y &lt;int&gt; |\n",
       "|---|---|---|\n",
       "| a | 100 | 12 |\n",
       "| a |  99 | 12 |\n",
       "| a |   8 | 12 |\n",
       "| b |  25 | 86 |\n",
       "| b |  92 | 86 |\n",
       "| b |  69 | 86 |\n",
       "| d |  NA | 89 |\n",
       "\n"
      ],
      "text/plain": [
       "  id x   y \n",
       "1 a  100 12\n",
       "2 a   99 12\n",
       "3 a    8 12\n",
       "4 b   25 86\n",
       "5 b   92 86\n",
       "6 b   69 86\n",
       "7 d   NA 89"
      ]
     },
     "metadata": {},
     "output_type": "display_data"
    }
   ],
   "source": [
    "data_right = merge(data_1, data_2, by = c('id'), all.y = TRUE)\n",
    "data_right"
   ]
  },
  {
   "cell_type": "markdown",
   "id": "43c37b68",
   "metadata": {},
   "source": [
    "# Data Stacking"
   ]
  },
  {
   "cell_type": "code",
   "execution_count": 4,
   "id": "aa43f2fc",
   "metadata": {},
   "outputs": [
    {
     "data": {
      "text/html": [
       "<table class=\"dataframe\">\n",
       "<caption>A data.frame: 10 × 2</caption>\n",
       "<thead>\n",
       "\t<tr><th scope=col>id</th><th scope=col>x</th></tr>\n",
       "\t<tr><th scope=col>&lt;chr&gt;</th><th scope=col>&lt;int&gt;</th></tr>\n",
       "</thead>\n",
       "<tbody>\n",
       "\t<tr><td>b</td><td>59</td></tr>\n",
       "\t<tr><td>b</td><td>28</td></tr>\n",
       "\t<tr><td>a</td><td>54</td></tr>\n",
       "\t<tr><td>c</td><td>69</td></tr>\n",
       "\t<tr><td>a</td><td>44</td></tr>\n",
       "\t<tr><td>a</td><td>12</td></tr>\n",
       "\t<tr><td>b</td><td>19</td></tr>\n",
       "\t<tr><td>a</td><td>34</td></tr>\n",
       "\t<tr><td>b</td><td>54</td></tr>\n",
       "\t<tr><td>d</td><td>80</td></tr>\n",
       "</tbody>\n",
       "</table>\n"
      ],
      "text/latex": [
       "A data.frame: 10 × 2\n",
       "\\begin{tabular}{ll}\n",
       " id & x\\\\\n",
       " <chr> & <int>\\\\\n",
       "\\hline\n",
       "\t b & 59\\\\\n",
       "\t b & 28\\\\\n",
       "\t a & 54\\\\\n",
       "\t c & 69\\\\\n",
       "\t a & 44\\\\\n",
       "\t a & 12\\\\\n",
       "\t b & 19\\\\\n",
       "\t a & 34\\\\\n",
       "\t b & 54\\\\\n",
       "\t d & 80\\\\\n",
       "\\end{tabular}\n"
      ],
      "text/markdown": [
       "\n",
       "A data.frame: 10 × 2\n",
       "\n",
       "| id &lt;chr&gt; | x &lt;int&gt; |\n",
       "|---|---|\n",
       "| b | 59 |\n",
       "| b | 28 |\n",
       "| a | 54 |\n",
       "| c | 69 |\n",
       "| a | 44 |\n",
       "| a | 12 |\n",
       "| b | 19 |\n",
       "| a | 34 |\n",
       "| b | 54 |\n",
       "| d | 80 |\n",
       "\n"
      ],
      "text/plain": [
       "   id x \n",
       "1  b  59\n",
       "2  b  28\n",
       "3  a  54\n",
       "4  c  69\n",
       "5  a  44\n",
       "6  a  12\n",
       "7  b  19\n",
       "8  a  34\n",
       "9  b  54\n",
       "10 d  80"
      ]
     },
     "metadata": {},
     "output_type": "display_data"
    }
   ],
   "source": [
    "## Defining two data-frames\n",
    "data_1 = data.frame(id = c('b', 'b', 'a', 'c', 'a', 'a', 'b'), x = sample(1:100, 7))\n",
    "data_2 = data.frame(id = c('a', 'b', 'd'), x = sample(1:100, 3))\n",
    "\n",
    "data_combined = rbind(data_1, data_2)\n",
    "data_combined"
   ]
  },
  {
   "cell_type": "markdown",
   "id": "9bdf627e",
   "metadata": {},
   "source": [
    "# Selecting Rows Based on Conditionals"
   ]
  },
  {
   "cell_type": "code",
   "execution_count": 5,
   "id": "2e3267fe",
   "metadata": {},
   "outputs": [
    {
     "data": {
      "text/html": [
       "<table class=\"dataframe\">\n",
       "<caption>A data.frame: 6 × 8</caption>\n",
       "<thead>\n",
       "\t<tr><th></th><th scope=col>Survived</th><th scope=col>Pclass</th><th scope=col>Name</th><th scope=col>Sex</th><th scope=col>Age</th><th scope=col>Siblings_Spouses.Aboard</th><th scope=col>Parents_Children_Aboard</th><th scope=col>Fare</th></tr>\n",
       "\t<tr><th></th><th scope=col>&lt;int&gt;</th><th scope=col>&lt;int&gt;</th><th scope=col>&lt;chr&gt;</th><th scope=col>&lt;chr&gt;</th><th scope=col>&lt;dbl&gt;</th><th scope=col>&lt;int&gt;</th><th scope=col>&lt;int&gt;</th><th scope=col>&lt;dbl&gt;</th></tr>\n",
       "</thead>\n",
       "<tbody>\n",
       "\t<tr><th scope=row>1</th><td>0</td><td>3</td><td>Mr. Owen Harris Braund                            </td><td>male  </td><td>22</td><td>1</td><td>0</td><td> 7.2500</td></tr>\n",
       "\t<tr><th scope=row>2</th><td>1</td><td>1</td><td>Mrs. John Bradley (Florence Briggs Thayer) Cumings</td><td>female</td><td>38</td><td>1</td><td>0</td><td>71.2833</td></tr>\n",
       "\t<tr><th scope=row>3</th><td>1</td><td>3</td><td>Miss. Laina Heikkinen                             </td><td>female</td><td>26</td><td>0</td><td>0</td><td> 7.9250</td></tr>\n",
       "\t<tr><th scope=row>4</th><td>1</td><td>1</td><td>Mrs. Jacques Heath (Lily May Peel) Futrelle       </td><td>female</td><td>35</td><td>1</td><td>0</td><td>53.1000</td></tr>\n",
       "\t<tr><th scope=row>5</th><td>0</td><td>3</td><td>Mr. William Henry Allen                           </td><td>male  </td><td>35</td><td>0</td><td>0</td><td> 8.0500</td></tr>\n",
       "\t<tr><th scope=row>6</th><td>0</td><td>3</td><td>Mr. James Moran                                   </td><td>male  </td><td>27</td><td>0</td><td>0</td><td> 8.4583</td></tr>\n",
       "</tbody>\n",
       "</table>\n"
      ],
      "text/latex": [
       "A data.frame: 6 × 8\n",
       "\\begin{tabular}{r|llllllll}\n",
       "  & Survived & Pclass & Name & Sex & Age & Siblings\\_Spouses.Aboard & Parents\\_Children\\_Aboard & Fare\\\\\n",
       "  & <int> & <int> & <chr> & <chr> & <dbl> & <int> & <int> & <dbl>\\\\\n",
       "\\hline\n",
       "\t1 & 0 & 3 & Mr. Owen Harris Braund                             & male   & 22 & 1 & 0 &  7.2500\\\\\n",
       "\t2 & 1 & 1 & Mrs. John Bradley (Florence Briggs Thayer) Cumings & female & 38 & 1 & 0 & 71.2833\\\\\n",
       "\t3 & 1 & 3 & Miss. Laina Heikkinen                              & female & 26 & 0 & 0 &  7.9250\\\\\n",
       "\t4 & 1 & 1 & Mrs. Jacques Heath (Lily May Peel) Futrelle        & female & 35 & 1 & 0 & 53.1000\\\\\n",
       "\t5 & 0 & 3 & Mr. William Henry Allen                            & male   & 35 & 0 & 0 &  8.0500\\\\\n",
       "\t6 & 0 & 3 & Mr. James Moran                                    & male   & 27 & 0 & 0 &  8.4583\\\\\n",
       "\\end{tabular}\n"
      ],
      "text/markdown": [
       "\n",
       "A data.frame: 6 × 8\n",
       "\n",
       "| <!--/--> | Survived &lt;int&gt; | Pclass &lt;int&gt; | Name &lt;chr&gt; | Sex &lt;chr&gt; | Age &lt;dbl&gt; | Siblings_Spouses.Aboard &lt;int&gt; | Parents_Children_Aboard &lt;int&gt; | Fare &lt;dbl&gt; |\n",
       "|---|---|---|---|---|---|---|---|---|\n",
       "| 1 | 0 | 3 | Mr. Owen Harris Braund                             | male   | 22 | 1 | 0 |  7.2500 |\n",
       "| 2 | 1 | 1 | Mrs. John Bradley (Florence Briggs Thayer) Cumings | female | 38 | 1 | 0 | 71.2833 |\n",
       "| 3 | 1 | 3 | Miss. Laina Heikkinen                              | female | 26 | 0 | 0 |  7.9250 |\n",
       "| 4 | 1 | 1 | Mrs. Jacques Heath (Lily May Peel) Futrelle        | female | 35 | 1 | 0 | 53.1000 |\n",
       "| 5 | 0 | 3 | Mr. William Henry Allen                            | male   | 35 | 0 | 0 |  8.0500 |\n",
       "| 6 | 0 | 3 | Mr. James Moran                                    | male   | 27 | 0 | 0 |  8.4583 |\n",
       "\n"
      ],
      "text/plain": [
       "  Survived Pclass Name                                               Sex    Age\n",
       "1 0        3      Mr. Owen Harris Braund                             male   22 \n",
       "2 1        1      Mrs. John Bradley (Florence Briggs Thayer) Cumings female 38 \n",
       "3 1        3      Miss. Laina Heikkinen                              female 26 \n",
       "4 1        1      Mrs. Jacques Heath (Lily May Peel) Futrelle        female 35 \n",
       "5 0        3      Mr. William Henry Allen                            male   35 \n",
       "6 0        3      Mr. James Moran                                    male   27 \n",
       "  Siblings_Spouses.Aboard Parents_Children_Aboard Fare   \n",
       "1 1                       0                        7.2500\n",
       "2 1                       0                       71.2833\n",
       "3 0                       0                        7.9250\n",
       "4 1                       0                       53.1000\n",
       "5 0                       0                        8.0500\n",
       "6 0                       0                        8.4583"
      ]
     },
     "metadata": {},
     "output_type": "display_data"
    }
   ],
   "source": [
    "## Reading titanic data-file\n",
    "titanic = read.csv(file = 'titanic.csv', header = TRUE)\n",
    "head(titanic)"
   ]
  },
  {
   "cell_type": "code",
   "execution_count": 6,
   "id": "5e53d128",
   "metadata": {},
   "outputs": [
    {
     "data": {
      "text/html": [
       "<table class=\"dataframe\">\n",
       "<caption>A data.frame: 2 × 8</caption>\n",
       "<thead>\n",
       "\t<tr><th></th><th scope=col>Survived</th><th scope=col>Pclass</th><th scope=col>Name</th><th scope=col>Sex</th><th scope=col>Age</th><th scope=col>Siblings_Spouses.Aboard</th><th scope=col>Parents_Children_Aboard</th><th scope=col>Fare</th></tr>\n",
       "\t<tr><th></th><th scope=col>&lt;int&gt;</th><th scope=col>&lt;int&gt;</th><th scope=col>&lt;chr&gt;</th><th scope=col>&lt;chr&gt;</th><th scope=col>&lt;dbl&gt;</th><th scope=col>&lt;int&gt;</th><th scope=col>&lt;int&gt;</th><th scope=col>&lt;dbl&gt;</th></tr>\n",
       "</thead>\n",
       "<tbody>\n",
       "\t<tr><th scope=row>2</th><td>1</td><td>1</td><td>Mrs. John Bradley (Florence Briggs Thayer) Cumings</td><td>female</td><td>38</td><td>1</td><td>0</td><td>71.2833</td></tr>\n",
       "\t<tr><th scope=row>3</th><td>1</td><td>3</td><td>Miss. Laina Heikkinen                             </td><td>female</td><td>26</td><td>0</td><td>0</td><td> 7.9250</td></tr>\n",
       "</tbody>\n",
       "</table>\n"
      ],
      "text/latex": [
       "A data.frame: 2 × 8\n",
       "\\begin{tabular}{r|llllllll}\n",
       "  & Survived & Pclass & Name & Sex & Age & Siblings\\_Spouses.Aboard & Parents\\_Children\\_Aboard & Fare\\\\\n",
       "  & <int> & <int> & <chr> & <chr> & <dbl> & <int> & <int> & <dbl>\\\\\n",
       "\\hline\n",
       "\t2 & 1 & 1 & Mrs. John Bradley (Florence Briggs Thayer) Cumings & female & 38 & 1 & 0 & 71.2833\\\\\n",
       "\t3 & 1 & 3 & Miss. Laina Heikkinen                              & female & 26 & 0 & 0 &  7.9250\\\\\n",
       "\\end{tabular}\n"
      ],
      "text/markdown": [
       "\n",
       "A data.frame: 2 × 8\n",
       "\n",
       "| <!--/--> | Survived &lt;int&gt; | Pclass &lt;int&gt; | Name &lt;chr&gt; | Sex &lt;chr&gt; | Age &lt;dbl&gt; | Siblings_Spouses.Aboard &lt;int&gt; | Parents_Children_Aboard &lt;int&gt; | Fare &lt;dbl&gt; |\n",
       "|---|---|---|---|---|---|---|---|---|\n",
       "| 2 | 1 | 1 | Mrs. John Bradley (Florence Briggs Thayer) Cumings | female | 38 | 1 | 0 | 71.2833 |\n",
       "| 3 | 1 | 3 | Miss. Laina Heikkinen                              | female | 26 | 0 | 0 |  7.9250 |\n",
       "\n"
      ],
      "text/plain": [
       "  Survived Pclass Name                                               Sex    Age\n",
       "2 1        1      Mrs. John Bradley (Florence Briggs Thayer) Cumings female 38 \n",
       "3 1        3      Miss. Laina Heikkinen                              female 26 \n",
       "  Siblings_Spouses.Aboard Parents_Children_Aboard Fare   \n",
       "2 1                       0                       71.2833\n",
       "3 0                       0                        7.9250"
      ]
     },
     "metadata": {},
     "output_type": "display_data"
    }
   ],
   "source": [
    "## Showing top two rows where Sex is female\n",
    "head(titanic[which(titanic$Sex == 'female'), ], 2)"
   ]
  },
  {
   "cell_type": "code",
   "execution_count": 7,
   "id": "08053465",
   "metadata": {},
   "outputs": [
    {
     "data": {
      "text/html": [
       "<table class=\"dataframe\">\n",
       "<caption>A data.frame: 5 × 8</caption>\n",
       "<thead>\n",
       "\t<tr><th></th><th scope=col>Survived</th><th scope=col>Pclass</th><th scope=col>Name</th><th scope=col>Sex</th><th scope=col>Age</th><th scope=col>Siblings_Spouses.Aboard</th><th scope=col>Parents_Children_Aboard</th><th scope=col>Fare</th></tr>\n",
       "\t<tr><th></th><th scope=col>&lt;int&gt;</th><th scope=col>&lt;int&gt;</th><th scope=col>&lt;chr&gt;</th><th scope=col>&lt;chr&gt;</th><th scope=col>&lt;dbl&gt;</th><th scope=col>&lt;int&gt;</th><th scope=col>&lt;int&gt;</th><th scope=col>&lt;dbl&gt;</th></tr>\n",
       "</thead>\n",
       "<tbody>\n",
       "\t<tr><th scope=row>274</th><td>1</td><td>1</td><td>Miss. Kornelia Theodosia Andrews               </td><td>female</td><td>63</td><td>1</td><td>0</td><td>77.9583</td></tr>\n",
       "\t<tr><th scope=row>365</th><td>1</td><td>1</td><td>Mrs. Frank Manley (Anna Sophia Atkinson) Warren</td><td>female</td><td>60</td><td>1</td><td>0</td><td>75.2500</td></tr>\n",
       "\t<tr><th scope=row>481</th><td>1</td><td>3</td><td>Mrs. (Hedwig) Turkula                          </td><td>female</td><td>63</td><td>0</td><td>0</td><td> 9.5875</td></tr>\n",
       "\t<tr><th scope=row>562</th><td>0</td><td>3</td><td>Miss. (Marion Ogden) Meanwell                  </td><td>female</td><td>62</td><td>0</td><td>0</td><td> 8.0500</td></tr>\n",
       "\t<tr><th scope=row>826</th><td>1</td><td>1</td><td>Mrs. George Nelson (Martha Evelyn) Stone       </td><td>female</td><td>62</td><td>0</td><td>0</td><td>80.0000</td></tr>\n",
       "</tbody>\n",
       "</table>\n"
      ],
      "text/latex": [
       "A data.frame: 5 × 8\n",
       "\\begin{tabular}{r|llllllll}\n",
       "  & Survived & Pclass & Name & Sex & Age & Siblings\\_Spouses.Aboard & Parents\\_Children\\_Aboard & Fare\\\\\n",
       "  & <int> & <int> & <chr> & <chr> & <dbl> & <int> & <int> & <dbl>\\\\\n",
       "\\hline\n",
       "\t274 & 1 & 1 & Miss. Kornelia Theodosia Andrews                & female & 63 & 1 & 0 & 77.9583\\\\\n",
       "\t365 & 1 & 1 & Mrs. Frank Manley (Anna Sophia Atkinson) Warren & female & 60 & 1 & 0 & 75.2500\\\\\n",
       "\t481 & 1 & 3 & Mrs. (Hedwig) Turkula                           & female & 63 & 0 & 0 &  9.5875\\\\\n",
       "\t562 & 0 & 3 & Miss. (Marion Ogden) Meanwell                   & female & 62 & 0 & 0 &  8.0500\\\\\n",
       "\t826 & 1 & 1 & Mrs. George Nelson (Martha Evelyn) Stone        & female & 62 & 0 & 0 & 80.0000\\\\\n",
       "\\end{tabular}\n"
      ],
      "text/markdown": [
       "\n",
       "A data.frame: 5 × 8\n",
       "\n",
       "| <!--/--> | Survived &lt;int&gt; | Pclass &lt;int&gt; | Name &lt;chr&gt; | Sex &lt;chr&gt; | Age &lt;dbl&gt; | Siblings_Spouses.Aboard &lt;int&gt; | Parents_Children_Aboard &lt;int&gt; | Fare &lt;dbl&gt; |\n",
       "|---|---|---|---|---|---|---|---|---|\n",
       "| 274 | 1 | 1 | Miss. Kornelia Theodosia Andrews                | female | 63 | 1 | 0 | 77.9583 |\n",
       "| 365 | 1 | 1 | Mrs. Frank Manley (Anna Sophia Atkinson) Warren | female | 60 | 1 | 0 | 75.2500 |\n",
       "| 481 | 1 | 3 | Mrs. (Hedwig) Turkula                           | female | 63 | 0 | 0 |  9.5875 |\n",
       "| 562 | 0 | 3 | Miss. (Marion Ogden) Meanwell                   | female | 62 | 0 | 0 |  8.0500 |\n",
       "| 826 | 1 | 1 | Mrs. George Nelson (Martha Evelyn) Stone        | female | 62 | 0 | 0 | 80.0000 |\n",
       "\n"
      ],
      "text/plain": [
       "    Survived Pclass Name                                            Sex    Age\n",
       "274 1        1      Miss. Kornelia Theodosia Andrews                female 63 \n",
       "365 1        1      Mrs. Frank Manley (Anna Sophia Atkinson) Warren female 60 \n",
       "481 1        3      Mrs. (Hedwig) Turkula                           female 63 \n",
       "562 0        3      Miss. (Marion Ogden) Meanwell                   female 62 \n",
       "826 1        1      Mrs. George Nelson (Martha Evelyn) Stone        female 62 \n",
       "    Siblings_Spouses.Aboard Parents_Children_Aboard Fare   \n",
       "274 1                       0                       77.9583\n",
       "365 1                       0                       75.2500\n",
       "481 0                       0                        9.5875\n",
       "562 0                       0                        8.0500\n",
       "826 0                       0                       80.0000"
      ]
     },
     "metadata": {},
     "output_type": "display_data"
    }
   ],
   "source": [
    "## Filtering rows based on multiple conditions\n",
    "titanic[which(titanic$Sex == 'female' & titanic$Age >= 60), ]"
   ]
  },
  {
   "cell_type": "markdown",
   "id": "0056f7bf",
   "metadata": {},
   "source": [
    "# Replacing Values"
   ]
  },
  {
   "cell_type": "code",
   "execution_count": 9,
   "id": "decb30d1",
   "metadata": {},
   "outputs": [
    {
     "data": {
      "text/html": [
       "<style>\n",
       ".list-inline {list-style: none; margin:0; padding: 0}\n",
       ".list-inline>li {display: inline-block}\n",
       ".list-inline>li:not(:last-child)::after {content: \"\\00b7\"; padding: 0 .5ex}\n",
       "</style>\n",
       "<ol class=list-inline><li>'male'</li><li>'woman'</li><li>'woman'</li><li>'woman'</li><li>'male'</li><li>'male'</li></ol>\n"
      ],
      "text/latex": [
       "\\begin{enumerate*}\n",
       "\\item 'male'\n",
       "\\item 'woman'\n",
       "\\item 'woman'\n",
       "\\item 'woman'\n",
       "\\item 'male'\n",
       "\\item 'male'\n",
       "\\end{enumerate*}\n"
      ],
      "text/markdown": [
       "1. 'male'\n",
       "2. 'woman'\n",
       "3. 'woman'\n",
       "4. 'woman'\n",
       "5. 'male'\n",
       "6. 'male'\n",
       "\n",
       "\n"
      ],
      "text/plain": [
       "[1] \"male\"  \"woman\" \"woman\" \"woman\" \"male\"  \"male\" "
      ]
     },
     "metadata": {},
     "output_type": "display_data"
    }
   ],
   "source": [
    "## Replacing female by woman\n",
    "titanic$Sex[which(titanic$Sex == 'female')] = 'woman'\n",
    "head(titanic$Sex)"
   ]
  },
  {
   "cell_type": "code",
   "execution_count": 10,
   "id": "0fd2af0c",
   "metadata": {},
   "outputs": [
    {
     "data": {
      "text/html": [
       "<style>\n",
       ".list-inline {list-style: none; margin:0; padding: 0}\n",
       ".list-inline>li {display: inline-block}\n",
       ".list-inline>li:not(:last-child)::after {content: \"\\00b7\"; padding: 0 .5ex}\n",
       "</style>\n",
       "<ol class=list-inline><li>'man'</li><li>'woman'</li><li>'woman'</li><li>'woman'</li><li>'man'</li><li>'man'</li></ol>\n"
      ],
      "text/latex": [
       "\\begin{enumerate*}\n",
       "\\item 'man'\n",
       "\\item 'woman'\n",
       "\\item 'woman'\n",
       "\\item 'woman'\n",
       "\\item 'man'\n",
       "\\item 'man'\n",
       "\\end{enumerate*}\n"
      ],
      "text/markdown": [
       "1. 'man'\n",
       "2. 'woman'\n",
       "3. 'woman'\n",
       "4. 'woman'\n",
       "5. 'man'\n",
       "6. 'man'\n",
       "\n",
       "\n"
      ],
      "text/plain": [
       "[1] \"man\"   \"woman\" \"woman\" \"woman\" \"man\"   \"man\"  "
      ]
     },
     "metadata": {},
     "output_type": "display_data"
    }
   ],
   "source": [
    "## Replacing female and male with woman and man\n",
    "titanic$Sex[which(titanic$Sex == 'female')] = 'woman'\n",
    "titanic$Sex[which(titanic$Sex == 'male')] = 'man'\n",
    "head(titanic$Sex)"
   ]
  },
  {
   "cell_type": "markdown",
   "id": "ba9becb3",
   "metadata": {},
   "source": [
    "# Renaming Columns"
   ]
  },
  {
   "cell_type": "code",
   "execution_count": 13,
   "id": "50565986",
   "metadata": {},
   "outputs": [
    {
     "data": {
      "text/html": [
       "<table class=\"dataframe\">\n",
       "<caption>A data.frame: 6 × 8</caption>\n",
       "<thead>\n",
       "\t<tr><th></th><th scope=col>Survived</th><th scope=col>Passenger Class</th><th scope=col>Name</th><th scope=col>Sex</th><th scope=col>Age</th><th scope=col>Siblings_Spouses.Aboard</th><th scope=col>Parents_Children_Aboard</th><th scope=col>Fare</th></tr>\n",
       "\t<tr><th></th><th scope=col>&lt;int&gt;</th><th scope=col>&lt;int&gt;</th><th scope=col>&lt;chr&gt;</th><th scope=col>&lt;chr&gt;</th><th scope=col>&lt;dbl&gt;</th><th scope=col>&lt;int&gt;</th><th scope=col>&lt;int&gt;</th><th scope=col>&lt;dbl&gt;</th></tr>\n",
       "</thead>\n",
       "<tbody>\n",
       "\t<tr><th scope=row>1</th><td>0</td><td>3</td><td>Mr. Owen Harris Braund                            </td><td>man  </td><td>22</td><td>1</td><td>0</td><td> 7.2500</td></tr>\n",
       "\t<tr><th scope=row>2</th><td>1</td><td>1</td><td>Mrs. John Bradley (Florence Briggs Thayer) Cumings</td><td>woman</td><td>38</td><td>1</td><td>0</td><td>71.2833</td></tr>\n",
       "\t<tr><th scope=row>3</th><td>1</td><td>3</td><td>Miss. Laina Heikkinen                             </td><td>woman</td><td>26</td><td>0</td><td>0</td><td> 7.9250</td></tr>\n",
       "\t<tr><th scope=row>4</th><td>1</td><td>1</td><td>Mrs. Jacques Heath (Lily May Peel) Futrelle       </td><td>woman</td><td>35</td><td>1</td><td>0</td><td>53.1000</td></tr>\n",
       "\t<tr><th scope=row>5</th><td>0</td><td>3</td><td>Mr. William Henry Allen                           </td><td>man  </td><td>35</td><td>0</td><td>0</td><td> 8.0500</td></tr>\n",
       "\t<tr><th scope=row>6</th><td>0</td><td>3</td><td>Mr. James Moran                                   </td><td>man  </td><td>27</td><td>0</td><td>0</td><td> 8.4583</td></tr>\n",
       "</tbody>\n",
       "</table>\n"
      ],
      "text/latex": [
       "A data.frame: 6 × 8\n",
       "\\begin{tabular}{r|llllllll}\n",
       "  & Survived & Passenger Class & Name & Sex & Age & Siblings\\_Spouses.Aboard & Parents\\_Children\\_Aboard & Fare\\\\\n",
       "  & <int> & <int> & <chr> & <chr> & <dbl> & <int> & <int> & <dbl>\\\\\n",
       "\\hline\n",
       "\t1 & 0 & 3 & Mr. Owen Harris Braund                             & man   & 22 & 1 & 0 &  7.2500\\\\\n",
       "\t2 & 1 & 1 & Mrs. John Bradley (Florence Briggs Thayer) Cumings & woman & 38 & 1 & 0 & 71.2833\\\\\n",
       "\t3 & 1 & 3 & Miss. Laina Heikkinen                              & woman & 26 & 0 & 0 &  7.9250\\\\\n",
       "\t4 & 1 & 1 & Mrs. Jacques Heath (Lily May Peel) Futrelle        & woman & 35 & 1 & 0 & 53.1000\\\\\n",
       "\t5 & 0 & 3 & Mr. William Henry Allen                            & man   & 35 & 0 & 0 &  8.0500\\\\\n",
       "\t6 & 0 & 3 & Mr. James Moran                                    & man   & 27 & 0 & 0 &  8.4583\\\\\n",
       "\\end{tabular}\n"
      ],
      "text/markdown": [
       "\n",
       "A data.frame: 6 × 8\n",
       "\n",
       "| <!--/--> | Survived &lt;int&gt; | Passenger Class &lt;int&gt; | Name &lt;chr&gt; | Sex &lt;chr&gt; | Age &lt;dbl&gt; | Siblings_Spouses.Aboard &lt;int&gt; | Parents_Children_Aboard &lt;int&gt; | Fare &lt;dbl&gt; |\n",
       "|---|---|---|---|---|---|---|---|---|\n",
       "| 1 | 0 | 3 | Mr. Owen Harris Braund                             | man   | 22 | 1 | 0 |  7.2500 |\n",
       "| 2 | 1 | 1 | Mrs. John Bradley (Florence Briggs Thayer) Cumings | woman | 38 | 1 | 0 | 71.2833 |\n",
       "| 3 | 1 | 3 | Miss. Laina Heikkinen                              | woman | 26 | 0 | 0 |  7.9250 |\n",
       "| 4 | 1 | 1 | Mrs. Jacques Heath (Lily May Peel) Futrelle        | woman | 35 | 1 | 0 | 53.1000 |\n",
       "| 5 | 0 | 3 | Mr. William Henry Allen                            | man   | 35 | 0 | 0 |  8.0500 |\n",
       "| 6 | 0 | 3 | Mr. James Moran                                    | man   | 27 | 0 | 0 |  8.4583 |\n",
       "\n"
      ],
      "text/plain": [
       "  Survived Passenger Class Name                                              \n",
       "1 0        3               Mr. Owen Harris Braund                            \n",
       "2 1        1               Mrs. John Bradley (Florence Briggs Thayer) Cumings\n",
       "3 1        3               Miss. Laina Heikkinen                             \n",
       "4 1        1               Mrs. Jacques Heath (Lily May Peel) Futrelle       \n",
       "5 0        3               Mr. William Henry Allen                           \n",
       "6 0        3               Mr. James Moran                                   \n",
       "  Sex   Age Siblings_Spouses.Aboard Parents_Children_Aboard Fare   \n",
       "1 man   22  1                       0                        7.2500\n",
       "2 woman 38  1                       0                       71.2833\n",
       "3 woman 26  0                       0                        7.9250\n",
       "4 woman 35  1                       0                       53.1000\n",
       "5 man   35  0                       0                        8.0500\n",
       "6 man   27  0                       0                        8.4583"
      ]
     },
     "metadata": {},
     "output_type": "display_data"
    }
   ],
   "source": [
    "# Renaming the Pclass column\n",
    "names(titanic)[2] = 'Passenger Class'\n",
    "head(titanic)"
   ]
  },
  {
   "cell_type": "code",
   "execution_count": 16,
   "id": "6513fb06",
   "metadata": {},
   "outputs": [
    {
     "data": {
      "text/html": [
       "<table class=\"dataframe\">\n",
       "<caption>A data.frame: 6 × 8</caption>\n",
       "<thead>\n",
       "\t<tr><th></th><th scope=col>Survived</th><th scope=col>Passenger Class</th><th scope=col>Name</th><th scope=col>Gender</th><th scope=col>Age</th><th scope=col>Siblings_Spouses.Aboard</th><th scope=col>Parents_Children_Aboard</th><th scope=col>Fare</th></tr>\n",
       "\t<tr><th></th><th scope=col>&lt;int&gt;</th><th scope=col>&lt;int&gt;</th><th scope=col>&lt;chr&gt;</th><th scope=col>&lt;chr&gt;</th><th scope=col>&lt;dbl&gt;</th><th scope=col>&lt;int&gt;</th><th scope=col>&lt;int&gt;</th><th scope=col>&lt;dbl&gt;</th></tr>\n",
       "</thead>\n",
       "<tbody>\n",
       "\t<tr><th scope=row>1</th><td>0</td><td>3</td><td>Mr. Owen Harris Braund                            </td><td>man  </td><td>22</td><td>1</td><td>0</td><td> 7.2500</td></tr>\n",
       "\t<tr><th scope=row>2</th><td>1</td><td>1</td><td>Mrs. John Bradley (Florence Briggs Thayer) Cumings</td><td>woman</td><td>38</td><td>1</td><td>0</td><td>71.2833</td></tr>\n",
       "\t<tr><th scope=row>3</th><td>1</td><td>3</td><td>Miss. Laina Heikkinen                             </td><td>woman</td><td>26</td><td>0</td><td>0</td><td> 7.9250</td></tr>\n",
       "\t<tr><th scope=row>4</th><td>1</td><td>1</td><td>Mrs. Jacques Heath (Lily May Peel) Futrelle       </td><td>woman</td><td>35</td><td>1</td><td>0</td><td>53.1000</td></tr>\n",
       "\t<tr><th scope=row>5</th><td>0</td><td>3</td><td>Mr. William Henry Allen                           </td><td>man  </td><td>35</td><td>0</td><td>0</td><td> 8.0500</td></tr>\n",
       "\t<tr><th scope=row>6</th><td>0</td><td>3</td><td>Mr. James Moran                                   </td><td>man  </td><td>27</td><td>0</td><td>0</td><td> 8.4583</td></tr>\n",
       "</tbody>\n",
       "</table>\n"
      ],
      "text/latex": [
       "A data.frame: 6 × 8\n",
       "\\begin{tabular}{r|llllllll}\n",
       "  & Survived & Passenger Class & Name & Gender & Age & Siblings\\_Spouses.Aboard & Parents\\_Children\\_Aboard & Fare\\\\\n",
       "  & <int> & <int> & <chr> & <chr> & <dbl> & <int> & <int> & <dbl>\\\\\n",
       "\\hline\n",
       "\t1 & 0 & 3 & Mr. Owen Harris Braund                             & man   & 22 & 1 & 0 &  7.2500\\\\\n",
       "\t2 & 1 & 1 & Mrs. John Bradley (Florence Briggs Thayer) Cumings & woman & 38 & 1 & 0 & 71.2833\\\\\n",
       "\t3 & 1 & 3 & Miss. Laina Heikkinen                              & woman & 26 & 0 & 0 &  7.9250\\\\\n",
       "\t4 & 1 & 1 & Mrs. Jacques Heath (Lily May Peel) Futrelle        & woman & 35 & 1 & 0 & 53.1000\\\\\n",
       "\t5 & 0 & 3 & Mr. William Henry Allen                            & man   & 35 & 0 & 0 &  8.0500\\\\\n",
       "\t6 & 0 & 3 & Mr. James Moran                                    & man   & 27 & 0 & 0 &  8.4583\\\\\n",
       "\\end{tabular}\n"
      ],
      "text/markdown": [
       "\n",
       "A data.frame: 6 × 8\n",
       "\n",
       "| <!--/--> | Survived &lt;int&gt; | Passenger Class &lt;int&gt; | Name &lt;chr&gt; | Gender &lt;chr&gt; | Age &lt;dbl&gt; | Siblings_Spouses.Aboard &lt;int&gt; | Parents_Children_Aboard &lt;int&gt; | Fare &lt;dbl&gt; |\n",
       "|---|---|---|---|---|---|---|---|---|\n",
       "| 1 | 0 | 3 | Mr. Owen Harris Braund                             | man   | 22 | 1 | 0 |  7.2500 |\n",
       "| 2 | 1 | 1 | Mrs. John Bradley (Florence Briggs Thayer) Cumings | woman | 38 | 1 | 0 | 71.2833 |\n",
       "| 3 | 1 | 3 | Miss. Laina Heikkinen                              | woman | 26 | 0 | 0 |  7.9250 |\n",
       "| 4 | 1 | 1 | Mrs. Jacques Heath (Lily May Peel) Futrelle        | woman | 35 | 1 | 0 | 53.1000 |\n",
       "| 5 | 0 | 3 | Mr. William Henry Allen                            | man   | 35 | 0 | 0 |  8.0500 |\n",
       "| 6 | 0 | 3 | Mr. James Moran                                    | man   | 27 | 0 | 0 |  8.4583 |\n",
       "\n"
      ],
      "text/plain": [
       "  Survived Passenger Class Name                                              \n",
       "1 0        3               Mr. Owen Harris Braund                            \n",
       "2 1        1               Mrs. John Bradley (Florence Briggs Thayer) Cumings\n",
       "3 1        3               Miss. Laina Heikkinen                             \n",
       "4 1        1               Mrs. Jacques Heath (Lily May Peel) Futrelle       \n",
       "5 0        3               Mr. William Henry Allen                           \n",
       "6 0        3               Mr. James Moran                                   \n",
       "  Gender Age Siblings_Spouses.Aboard Parents_Children_Aboard Fare   \n",
       "1 man    22  1                       0                        7.2500\n",
       "2 woman  38  1                       0                       71.2833\n",
       "3 woman  26  0                       0                        7.9250\n",
       "4 woman  35  1                       0                       53.1000\n",
       "5 man    35  0                       0                        8.0500\n",
       "6 man    27  0                       0                        8.4583"
      ]
     },
     "metadata": {},
     "output_type": "display_data"
    }
   ],
   "source": [
    "## Renaming Pclass and Sex\n",
    "names(titanic)[c(2, 4)] = c('Passenger Class', 'Gender')\n",
    "head(titanic)"
   ]
  },
  {
   "cell_type": "markdown",
   "id": "8d53fbfe",
   "metadata": {},
   "source": [
    "# Finding Minimum, Maximum, Sum, Average, and Count"
   ]
  },
  {
   "cell_type": "code",
   "execution_count": 17,
   "id": "1c9d4459",
   "metadata": {},
   "outputs": [
    {
     "data": {
      "text/html": [
       "80"
      ],
      "text/latex": [
       "80"
      ],
      "text/markdown": [
       "80"
      ],
      "text/plain": [
       "[1] 80"
      ]
     },
     "metadata": {},
     "output_type": "display_data"
    }
   ],
   "source": [
    "## Finding the maximum age\n",
    "max(titanic$Age)"
   ]
  },
  {
   "cell_type": "code",
   "execution_count": 18,
   "id": "eda3bf0f",
   "metadata": {},
   "outputs": [
    {
     "data": {
      "text/html": [
       "0.42"
      ],
      "text/latex": [
       "0.42"
      ],
      "text/markdown": [
       "0.42"
      ],
      "text/plain": [
       "[1] 0.42"
      ]
     },
     "metadata": {},
     "output_type": "display_data"
    }
   ],
   "source": [
    "## Finding the minimum age\n",
    "min(titanic$Age)"
   ]
  },
  {
   "cell_type": "code",
   "execution_count": 19,
   "id": "d96ca8fd",
   "metadata": {},
   "outputs": [
    {
     "data": {
      "text/html": [
       "29.4714430665163"
      ],
      "text/latex": [
       "29.4714430665163"
      ],
      "text/markdown": [
       "29.4714430665163"
      ],
      "text/plain": [
       "[1] 29.47144"
      ]
     },
     "metadata": {},
     "output_type": "display_data"
    }
   ],
   "source": [
    "## Computing the average age\n",
    "mean(titanic$Age)"
   ]
  },
  {
   "cell_type": "code",
   "execution_count": 21,
   "id": "578eae34",
   "metadata": {},
   "outputs": [
    {
     "data": {
      "text/html": [
       "26141.17"
      ],
      "text/latex": [
       "26141.17"
      ],
      "text/markdown": [
       "26141.17"
      ],
      "text/plain": [
       "[1] 26141.17"
      ]
     },
     "metadata": {},
     "output_type": "display_data"
    }
   ],
   "source": [
    "## Computing the sum of all ages\n",
    "sum(titanic$Age)"
   ]
  },
  {
   "cell_type": "code",
   "execution_count": 23,
   "id": "4ce9d253",
   "metadata": {},
   "outputs": [
    {
     "data": {
      "text/html": [
       "887"
      ],
      "text/latex": [
       "887"
      ],
      "text/markdown": [
       "887"
      ],
      "text/plain": [
       "[1] 887"
      ]
     },
     "metadata": {},
     "output_type": "display_data"
    }
   ],
   "source": [
    "## Counting the numner of ages\n",
    "length(titanic$Age)"
   ]
  }
 ],
 "metadata": {
  "kernelspec": {
   "display_name": "R",
   "language": "R",
   "name": "ir"
  },
  "language_info": {
   "codemirror_mode": "r",
   "file_extension": ".r",
   "mimetype": "text/x-r-source",
   "name": "R",
   "pygments_lexer": "r",
   "version": "4.1.0"
  }
 },
 "nbformat": 4,
 "nbformat_minor": 5
}
