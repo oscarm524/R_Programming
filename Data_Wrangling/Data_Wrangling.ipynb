{
 "cells": [
  {
   "cell_type": "code",
   "execution_count": 5,
   "id": "44661ea3",
   "metadata": {},
   "outputs": [],
   "source": [
    "## Defining two data-frames\n",
    "data_1 = data.frame(id = c('b', 'b', 'a', 'c', 'a', 'a', 'b'), x = sample(1:100, 7))\n",
    "data_2 = data.frame(id = c('a', 'b', 'd'), y = sample(1:100, 3))"
   ]
  },
  {
   "cell_type": "markdown",
   "id": "d2611a08",
   "metadata": {},
   "source": [
    "# Inner Join"
   ]
  },
  {
   "cell_type": "code",
   "execution_count": 6,
   "id": "a542ba3e",
   "metadata": {},
   "outputs": [
    {
     "data": {
      "text/html": [
       "<table class=\"dataframe\">\n",
       "<caption>A data.frame: 6 × 3</caption>\n",
       "<thead>\n",
       "\t<tr><th scope=col>id</th><th scope=col>x</th><th scope=col>y</th></tr>\n",
       "\t<tr><th scope=col>&lt;chr&gt;</th><th scope=col>&lt;int&gt;</th><th scope=col>&lt;int&gt;</th></tr>\n",
       "</thead>\n",
       "<tbody>\n",
       "\t<tr><td>a</td><td> 97</td><td> 1</td></tr>\n",
       "\t<tr><td>a</td><td> 86</td><td> 1</td></tr>\n",
       "\t<tr><td>a</td><td> 95</td><td> 1</td></tr>\n",
       "\t<tr><td>b</td><td> 92</td><td>99</td></tr>\n",
       "\t<tr><td>b</td><td>100</td><td>99</td></tr>\n",
       "\t<tr><td>b</td><td> 77</td><td>99</td></tr>\n",
       "</tbody>\n",
       "</table>\n"
      ],
      "text/latex": [
       "A data.frame: 6 × 3\n",
       "\\begin{tabular}{lll}\n",
       " id & x & y\\\\\n",
       " <chr> & <int> & <int>\\\\\n",
       "\\hline\n",
       "\t a &  97 &  1\\\\\n",
       "\t a &  86 &  1\\\\\n",
       "\t a &  95 &  1\\\\\n",
       "\t b &  92 & 99\\\\\n",
       "\t b & 100 & 99\\\\\n",
       "\t b &  77 & 99\\\\\n",
       "\\end{tabular}\n"
      ],
      "text/markdown": [
       "\n",
       "A data.frame: 6 × 3\n",
       "\n",
       "| id &lt;chr&gt; | x &lt;int&gt; | y &lt;int&gt; |\n",
       "|---|---|---|\n",
       "| a |  97 |  1 |\n",
       "| a |  86 |  1 |\n",
       "| a |  95 |  1 |\n",
       "| b |  92 | 99 |\n",
       "| b | 100 | 99 |\n",
       "| b |  77 | 99 |\n",
       "\n"
      ],
      "text/plain": [
       "  id x   y \n",
       "1 a   97  1\n",
       "2 a   86  1\n",
       "3 a   95  1\n",
       "4 b   92 99\n",
       "5 b  100 99\n",
       "6 b   77 99"
      ]
     },
     "metadata": {},
     "output_type": "display_data"
    }
   ],
   "source": [
    "data_inner = merge(data_1, data_2, by = c('id'))\n",
    "data_inner"
   ]
  }
 ],
 "metadata": {
  "kernelspec": {
   "display_name": "R",
   "language": "R",
   "name": "ir"
  },
  "language_info": {
   "codemirror_mode": "r",
   "file_extension": ".r",
   "mimetype": "text/x-r-source",
   "name": "R",
   "pygments_lexer": "r",
   "version": "4.1.0"
  }
 },
 "nbformat": 4,
 "nbformat_minor": 5
}
