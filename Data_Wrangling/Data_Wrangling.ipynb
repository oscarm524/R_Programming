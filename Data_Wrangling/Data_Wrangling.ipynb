{
 "cells": [
  {
   "cell_type": "code",
   "execution_count": 1,
   "id": "68a1acf8",
   "metadata": {},
   "outputs": [],
   "source": [
    "## Defining two data-frames\n",
    "data_1 = data.frame(id = c('b', 'b', 'a', 'c', 'a', 'a', 'b'), x = sample(1:100, 7))\n",
    "data_2 = data.frame(id = c('a', 'b', 'd'), y = sample(1:100, 3))"
   ]
  },
  {
   "cell_type": "markdown",
   "id": "eafde65e",
   "metadata": {},
   "source": [
    "# Inner Join"
   ]
  },
  {
   "cell_type": "code",
   "execution_count": 6,
   "id": "cc731be2",
   "metadata": {},
   "outputs": [
    {
     "data": {
      "text/html": [
       "<table class=\"dataframe\">\n",
       "<caption>A data.frame: 6 × 3</caption>\n",
       "<thead>\n",
       "\t<tr><th scope=col>id</th><th scope=col>x</th><th scope=col>y</th></tr>\n",
       "\t<tr><th scope=col>&lt;chr&gt;</th><th scope=col>&lt;int&gt;</th><th scope=col>&lt;int&gt;</th></tr>\n",
       "</thead>\n",
       "<tbody>\n",
       "\t<tr><td>a</td><td> 97</td><td> 1</td></tr>\n",
       "\t<tr><td>a</td><td> 86</td><td> 1</td></tr>\n",
       "\t<tr><td>a</td><td> 95</td><td> 1</td></tr>\n",
       "\t<tr><td>b</td><td> 92</td><td>99</td></tr>\n",
       "\t<tr><td>b</td><td>100</td><td>99</td></tr>\n",
       "\t<tr><td>b</td><td> 77</td><td>99</td></tr>\n",
       "</tbody>\n",
       "</table>\n"
      ],
      "text/latex": [
       "A data.frame: 6 × 3\n",
       "\\begin{tabular}{lll}\n",
       " id & x & y\\\\\n",
       " <chr> & <int> & <int>\\\\\n",
       "\\hline\n",
       "\t a &  97 &  1\\\\\n",
       "\t a &  86 &  1\\\\\n",
       "\t a &  95 &  1\\\\\n",
       "\t b &  92 & 99\\\\\n",
       "\t b & 100 & 99\\\\\n",
       "\t b &  77 & 99\\\\\n",
       "\\end{tabular}\n"
      ],
      "text/markdown": [
       "\n",
       "A data.frame: 6 × 3\n",
       "\n",
       "| id &lt;chr&gt; | x &lt;int&gt; | y &lt;int&gt; |\n",
       "|---|---|---|\n",
       "| a |  97 |  1 |\n",
       "| a |  86 |  1 |\n",
       "| a |  95 |  1 |\n",
       "| b |  92 | 99 |\n",
       "| b | 100 | 99 |\n",
       "| b |  77 | 99 |\n",
       "\n"
      ],
      "text/plain": [
       "  id x   y \n",
       "1 a   97  1\n",
       "2 a   86  1\n",
       "3 a   95  1\n",
       "4 b   92 99\n",
       "5 b  100 99\n",
       "6 b   77 99"
      ]
     },
     "metadata": {},
     "output_type": "display_data"
    }
   ],
   "source": [
    "data_inner = merge(data_1, data_2, by = c('id'))\n",
    "data_inner"
   ]
  },
  {
   "cell_type": "markdown",
   "id": "b4984e5e",
   "metadata": {},
   "source": [
    "# Left Join"
   ]
  },
  {
   "cell_type": "code",
   "execution_count": 2,
   "id": "c589c38b",
   "metadata": {},
   "outputs": [
    {
     "data": {
      "text/html": [
       "<table class=\"dataframe\">\n",
       "<caption>A data.frame: 7 × 3</caption>\n",
       "<thead>\n",
       "\t<tr><th scope=col>id</th><th scope=col>x</th><th scope=col>y</th></tr>\n",
       "\t<tr><th scope=col>&lt;chr&gt;</th><th scope=col>&lt;int&gt;</th><th scope=col>&lt;int&gt;</th></tr>\n",
       "</thead>\n",
       "<tbody>\n",
       "\t<tr><td>a</td><td>100</td><td>12</td></tr>\n",
       "\t<tr><td>a</td><td> 99</td><td>12</td></tr>\n",
       "\t<tr><td>a</td><td>  8</td><td>12</td></tr>\n",
       "\t<tr><td>b</td><td> 25</td><td>86</td></tr>\n",
       "\t<tr><td>b</td><td> 92</td><td>86</td></tr>\n",
       "\t<tr><td>b</td><td> 69</td><td>86</td></tr>\n",
       "\t<tr><td>c</td><td> 47</td><td>NA</td></tr>\n",
       "</tbody>\n",
       "</table>\n"
      ],
      "text/latex": [
       "A data.frame: 7 × 3\n",
       "\\begin{tabular}{lll}\n",
       " id & x & y\\\\\n",
       " <chr> & <int> & <int>\\\\\n",
       "\\hline\n",
       "\t a & 100 & 12\\\\\n",
       "\t a &  99 & 12\\\\\n",
       "\t a &   8 & 12\\\\\n",
       "\t b &  25 & 86\\\\\n",
       "\t b &  92 & 86\\\\\n",
       "\t b &  69 & 86\\\\\n",
       "\t c &  47 & NA\\\\\n",
       "\\end{tabular}\n"
      ],
      "text/markdown": [
       "\n",
       "A data.frame: 7 × 3\n",
       "\n",
       "| id &lt;chr&gt; | x &lt;int&gt; | y &lt;int&gt; |\n",
       "|---|---|---|\n",
       "| a | 100 | 12 |\n",
       "| a |  99 | 12 |\n",
       "| a |   8 | 12 |\n",
       "| b |  25 | 86 |\n",
       "| b |  92 | 86 |\n",
       "| b |  69 | 86 |\n",
       "| c |  47 | NA |\n",
       "\n"
      ],
      "text/plain": [
       "  id x   y \n",
       "1 a  100 12\n",
       "2 a   99 12\n",
       "3 a    8 12\n",
       "4 b   25 86\n",
       "5 b   92 86\n",
       "6 b   69 86\n",
       "7 c   47 NA"
      ]
     },
     "metadata": {},
     "output_type": "display_data"
    }
   ],
   "source": [
    "data_left = merge(data_1, data_2, by = c('id'), all.x = TRUE)\n",
    "data_left"
   ]
  },
  {
   "cell_type": "markdown",
   "id": "63c75f20",
   "metadata": {},
   "source": [
    "# Right Join"
   ]
  },
  {
   "cell_type": "code",
   "execution_count": 3,
   "id": "421413c1",
   "metadata": {},
   "outputs": [
    {
     "data": {
      "text/html": [
       "<table class=\"dataframe\">\n",
       "<caption>A data.frame: 7 × 3</caption>\n",
       "<thead>\n",
       "\t<tr><th scope=col>id</th><th scope=col>x</th><th scope=col>y</th></tr>\n",
       "\t<tr><th scope=col>&lt;chr&gt;</th><th scope=col>&lt;int&gt;</th><th scope=col>&lt;int&gt;</th></tr>\n",
       "</thead>\n",
       "<tbody>\n",
       "\t<tr><td>a</td><td>100</td><td>12</td></tr>\n",
       "\t<tr><td>a</td><td> 99</td><td>12</td></tr>\n",
       "\t<tr><td>a</td><td>  8</td><td>12</td></tr>\n",
       "\t<tr><td>b</td><td> 25</td><td>86</td></tr>\n",
       "\t<tr><td>b</td><td> 92</td><td>86</td></tr>\n",
       "\t<tr><td>b</td><td> 69</td><td>86</td></tr>\n",
       "\t<tr><td>d</td><td> NA</td><td>89</td></tr>\n",
       "</tbody>\n",
       "</table>\n"
      ],
      "text/latex": [
       "A data.frame: 7 × 3\n",
       "\\begin{tabular}{lll}\n",
       " id & x & y\\\\\n",
       " <chr> & <int> & <int>\\\\\n",
       "\\hline\n",
       "\t a & 100 & 12\\\\\n",
       "\t a &  99 & 12\\\\\n",
       "\t a &   8 & 12\\\\\n",
       "\t b &  25 & 86\\\\\n",
       "\t b &  92 & 86\\\\\n",
       "\t b &  69 & 86\\\\\n",
       "\t d &  NA & 89\\\\\n",
       "\\end{tabular}\n"
      ],
      "text/markdown": [
       "\n",
       "A data.frame: 7 × 3\n",
       "\n",
       "| id &lt;chr&gt; | x &lt;int&gt; | y &lt;int&gt; |\n",
       "|---|---|---|\n",
       "| a | 100 | 12 |\n",
       "| a |  99 | 12 |\n",
       "| a |   8 | 12 |\n",
       "| b |  25 | 86 |\n",
       "| b |  92 | 86 |\n",
       "| b |  69 | 86 |\n",
       "| d |  NA | 89 |\n",
       "\n"
      ],
      "text/plain": [
       "  id x   y \n",
       "1 a  100 12\n",
       "2 a   99 12\n",
       "3 a    8 12\n",
       "4 b   25 86\n",
       "5 b   92 86\n",
       "6 b   69 86\n",
       "7 d   NA 89"
      ]
     },
     "metadata": {},
     "output_type": "display_data"
    }
   ],
   "source": [
    "data_right = merge(data_1, data_2, by = c('id'), all.y = TRUE)\n",
    "data_right"
   ]
  },
  {
   "cell_type": "markdown",
   "id": "2031ff5d",
   "metadata": {},
   "source": [
    "# Data Stacking"
   ]
  },
  {
   "cell_type": "code",
   "execution_count": 4,
   "id": "bfd99347",
   "metadata": {},
   "outputs": [
    {
     "data": {
      "text/html": [
       "<table class=\"dataframe\">\n",
       "<caption>A data.frame: 10 × 2</caption>\n",
       "<thead>\n",
       "\t<tr><th scope=col>id</th><th scope=col>x</th></tr>\n",
       "\t<tr><th scope=col>&lt;chr&gt;</th><th scope=col>&lt;int&gt;</th></tr>\n",
       "</thead>\n",
       "<tbody>\n",
       "\t<tr><td>b</td><td>59</td></tr>\n",
       "\t<tr><td>b</td><td>28</td></tr>\n",
       "\t<tr><td>a</td><td>54</td></tr>\n",
       "\t<tr><td>c</td><td>69</td></tr>\n",
       "\t<tr><td>a</td><td>44</td></tr>\n",
       "\t<tr><td>a</td><td>12</td></tr>\n",
       "\t<tr><td>b</td><td>19</td></tr>\n",
       "\t<tr><td>a</td><td>34</td></tr>\n",
       "\t<tr><td>b</td><td>54</td></tr>\n",
       "\t<tr><td>d</td><td>80</td></tr>\n",
       "</tbody>\n",
       "</table>\n"
      ],
      "text/latex": [
       "A data.frame: 10 × 2\n",
       "\\begin{tabular}{ll}\n",
       " id & x\\\\\n",
       " <chr> & <int>\\\\\n",
       "\\hline\n",
       "\t b & 59\\\\\n",
       "\t b & 28\\\\\n",
       "\t a & 54\\\\\n",
       "\t c & 69\\\\\n",
       "\t a & 44\\\\\n",
       "\t a & 12\\\\\n",
       "\t b & 19\\\\\n",
       "\t a & 34\\\\\n",
       "\t b & 54\\\\\n",
       "\t d & 80\\\\\n",
       "\\end{tabular}\n"
      ],
      "text/markdown": [
       "\n",
       "A data.frame: 10 × 2\n",
       "\n",
       "| id &lt;chr&gt; | x &lt;int&gt; |\n",
       "|---|---|\n",
       "| b | 59 |\n",
       "| b | 28 |\n",
       "| a | 54 |\n",
       "| c | 69 |\n",
       "| a | 44 |\n",
       "| a | 12 |\n",
       "| b | 19 |\n",
       "| a | 34 |\n",
       "| b | 54 |\n",
       "| d | 80 |\n",
       "\n"
      ],
      "text/plain": [
       "   id x \n",
       "1  b  59\n",
       "2  b  28\n",
       "3  a  54\n",
       "4  c  69\n",
       "5  a  44\n",
       "6  a  12\n",
       "7  b  19\n",
       "8  a  34\n",
       "9  b  54\n",
       "10 d  80"
      ]
     },
     "metadata": {},
     "output_type": "display_data"
    }
   ],
   "source": [
    "## Defining two data-frames\n",
    "data_1 = data.frame(id = c('b', 'b', 'a', 'c', 'a', 'a', 'b'), x = sample(1:100, 7))\n",
    "data_2 = data.frame(id = c('a', 'b', 'd'), x = sample(1:100, 3))\n",
    "\n",
    "data_combined = rbind(data_1, data_2)\n",
    "data_combined"
   ]
  }
 ],
 "metadata": {
  "kernelspec": {
   "display_name": "R",
   "language": "R",
   "name": "ir"
  },
  "language_info": {
   "codemirror_mode": "r",
   "file_extension": ".r",
   "mimetype": "text/x-r-source",
   "name": "R",
   "pygments_lexer": "r",
   "version": "4.1.0"
  }
 },
 "nbformat": 4,
 "nbformat_minor": 5
}
