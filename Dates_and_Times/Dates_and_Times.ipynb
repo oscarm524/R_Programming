{
 "cells": [
  {
   "cell_type": "markdown",
   "id": "056dca95",
   "metadata": {},
   "source": [
    "# Converting Strings to Dates"
   ]
  },
  {
   "cell_type": "code",
   "execution_count": 5,
   "id": "03460d46",
   "metadata": {},
   "outputs": [
    {
     "data": {
      "text/html": [
       "<time datetime=\"2005-05-13\">2005-05-13</time>"
      ],
      "text/latex": [
       "2005-05-13"
      ],
      "text/markdown": [
       "2005-05-13"
      ],
      "text/plain": [
       "[1] \"2005-05-13\""
      ]
     },
     "metadata": {},
     "output_type": "display_data"
    }
   ],
   "source": [
    "## Creating a string\n",
    "date_string = '13-05-2005'\n",
    "\n",
    "## Converting to date\n",
    "as.Date(date_string, format = '%d-%m-%Y')"
   ]
  },
  {
   "cell_type": "markdown",
   "id": "4712f257",
   "metadata": {},
   "source": [
    "# Selecting Dates"
   ]
  }
 ],
 "metadata": {
  "kernelspec": {
   "display_name": "R",
   "language": "R",
   "name": "ir"
  },
  "language_info": {
   "codemirror_mode": "r",
   "file_extension": ".r",
   "mimetype": "text/x-r-source",
   "name": "R",
   "pygments_lexer": "r",
   "version": "4.1.0"
  }
 },
 "nbformat": 4,
 "nbformat_minor": 5
}
